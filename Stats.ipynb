{
 "cells": [
  {
   "cell_type": "code",
   "execution_count": 2,
   "id": "24b4f8b7-c120-4bd0-b9dc-81e5d03a8fb2",
   "metadata": {},
   "outputs": [
    {
     "name": "stdout",
     "output_type": "stream",
     "text": [
      "Tukey's HSD Test Results:\n",
      "        Multiple Comparison of Means - Tukey HSD, FWER=0.05         \n",
      "====================================================================\n",
      "   group1       group2    meandiff p-adj    lower     upper   reject\n",
      "--------------------------------------------------------------------\n",
      "   Automated Bounding Box   -401.5  0.401 -1134.2952 331.2952  False\n",
      "   Automated          SAM  -273.25 0.6922 -1006.0452 459.5452  False\n",
      "   Automated         SAM2  -199.75 0.8489  -932.5452 533.0452  False\n",
      "Bounding Box          SAM   128.25 0.9528  -604.5452 861.0452  False\n",
      "Bounding Box         SAM2   201.75 0.8452  -531.0452 934.5452  False\n",
      "         SAM         SAM2     73.5 0.9903  -659.2952 806.2952  False\n",
      "--------------------------------------------------------------------\n",
      "\n",
      "Mean annotations per method:\n",
      "Method\n",
      "Automated       762.75\n",
      "Bounding Box    361.25\n",
      "SAM             489.50\n",
      "SAM2            563.00\n",
      "Name: Annotations, dtype: float64\n",
      "\n",
      "Calculated HSD value: 628.8126371314829\n",
      "\n",
      "Example manual comparison:\n",
      "Difference between Automated and Bounding Box: 401.5\n",
      "Is difference significant? False\n"
     ]
    }
   ],
   "source": [
    "import pandas as pd\n",
    "import numpy as np\n",
    "from statsmodels.stats.multicomp import pairwise_tukeyhsd\n",
    "\n",
    "data = {\n",
    "    'Method': ['Bounding Box'] * 4 + ['SAM'] * 4 + ['SAM2'] * 4 + ['Automated'] * 4,\n",
    "    'Annotations': [299, 328, 639, 179,  # Bounding Box\n",
    "                   376, 306, 1025, 251,  # SAM\n",
    "                   295, 326, 1333, 298,  # SAM2\n",
    "                   561, 770, 1090, 630]  # Automated\n",
    "}\n",
    "df = pd.DataFrame(data)\n",
    "\n",
    "# Perform Tukey's HSD\n",
    "tukey = pairwise_tukeyhsd(df['Annotations'], df['Method'])\n",
    "\n",
    "print(\"Tukey's HSD Test Results:\")\n",
    "print(tukey)\n",
    "\n",
    "# Calculate mean for each method\n",
    "method_means = df.groupby('Method')['Annotations'].mean()\n",
    "print(\"\\nMean annotations per method:\")\n",
    "print(method_means)\n",
    "\n",
    "# The HSD value is calculated as:\n",
    "# HSD = q * sqrt(MSE / n)\n",
    "# where:\n",
    "# q = studentized range statistic\n",
    "# MSE = Mean Square Error from ANOVA\n",
    "# n = number of observations per group\n",
    "\n",
    "# Manual calculation example\n",
    "def calculate_hsd(q, mse, n):\n",
    "    return q * np.sqrt(mse / n)\n",
    "\n",
    "# Example values (these would normally come from your ANOVA)\n",
    "q_value = 3.63  # for α=0.05, k=4 groups, df=12\n",
    "mse = np.var(df['Annotations'], ddof=1)  # approximation\n",
    "n = 4  # observations per group\n",
    "\n",
    "hsd = calculate_hsd(q_value, mse, n)\n",
    "print(\"\\nCalculated HSD value:\", hsd)\n",
    "\n",
    "# Compare two means manually\n",
    "print(\"\\nExample manual comparison:\")\n",
    "mean_diff = abs(method_means['Automated'] - method_means['Bounding Box'])\n",
    "print(f\"Difference between Automated and Bounding Box: {mean_diff}\")\n",
    "print(f\"Is difference significant? {mean_diff > hsd}\")"
   ]
  },
  {
   "cell_type": "code",
   "execution_count": null,
   "id": "06a17867-eecc-426b-ba8f-49dfcfc3849a",
   "metadata": {},
   "outputs": [],
   "source": []
  }
 ],
 "metadata": {
  "kernelspec": {
   "display_name": "Python 3 (ipykernel)",
   "language": "python",
   "name": "python3"
  },
  "language_info": {
   "codemirror_mode": {
    "name": "ipython",
    "version": 3
   },
   "file_extension": ".py",
   "mimetype": "text/x-python",
   "name": "python",
   "nbconvert_exporter": "python",
   "pygments_lexer": "ipython3",
   "version": "3.12.5"
  }
 },
 "nbformat": 4,
 "nbformat_minor": 5
}
